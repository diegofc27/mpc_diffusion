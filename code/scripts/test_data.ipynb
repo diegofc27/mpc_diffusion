{
 "cells": [
  {
   "cell_type": "code",
   "execution_count": 1,
   "metadata": {},
   "outputs": [],
   "source": [
    "import numpy as np\n",
    "import pickle\n",
    "import pandas as pd"
   ]
  },
  {
   "cell_type": "code",
   "execution_count": 2,
   "metadata": {},
   "outputs": [],
   "source": [
    "eval = pd.read_csv('/home/fernandi/projects/decision-diffuser/code/skills/dif.csv')"
   ]
  },
  {
   "cell_type": "code",
   "execution_count": 5,
   "metadata": {},
   "outputs": [
    {
     "data": {
      "text/html": [
       "<div>\n",
       "<style scoped>\n",
       "    .dataframe tbody tr th:only-of-type {\n",
       "        vertical-align: middle;\n",
       "    }\n",
       "\n",
       "    .dataframe tbody tr th {\n",
       "        vertical-align: top;\n",
       "    }\n",
       "\n",
       "    .dataframe thead th {\n",
       "        text-align: right;\n",
       "    }\n",
       "</style>\n",
       "<table border=\"1\" class=\"dataframe\">\n",
       "  <thead>\n",
       "    <tr style=\"text-align: right;\">\n",
       "      <th></th>\n",
       "      <th>rigth_w</th>\n",
       "      <th>up_w</th>\n",
       "      <th>diff_x</th>\n",
       "      <th>diff_y</th>\n",
       "    </tr>\n",
       "  </thead>\n",
       "  <tbody>\n",
       "    <tr>\n",
       "      <th>7736</th>\n",
       "      <td>7.7</td>\n",
       "      <td>3.6</td>\n",
       "      <td>13.490059</td>\n",
       "      <td>-1.736719</td>\n",
       "    </tr>\n",
       "    <tr>\n",
       "      <th>7823</th>\n",
       "      <td>7.8</td>\n",
       "      <td>2.3</td>\n",
       "      <td>13.490059</td>\n",
       "      <td>-1.698503</td>\n",
       "    </tr>\n",
       "    <tr>\n",
       "      <th>7857</th>\n",
       "      <td>7.8</td>\n",
       "      <td>5.7</td>\n",
       "      <td>13.490059</td>\n",
       "      <td>-1.686919</td>\n",
       "    </tr>\n",
       "    <tr>\n",
       "      <th>8753</th>\n",
       "      <td>8.7</td>\n",
       "      <td>5.3</td>\n",
       "      <td>13.490059</td>\n",
       "      <td>-1.649463</td>\n",
       "    </tr>\n",
       "    <tr>\n",
       "      <th>8427</th>\n",
       "      <td>8.4</td>\n",
       "      <td>2.7</td>\n",
       "      <td>13.490059</td>\n",
       "      <td>-1.533215</td>\n",
       "    </tr>\n",
       "    <tr>\n",
       "      <th>...</th>\n",
       "      <td>...</td>\n",
       "      <td>...</td>\n",
       "      <td>...</td>\n",
       "      <td>...</td>\n",
       "    </tr>\n",
       "    <tr>\n",
       "      <th>8129</th>\n",
       "      <td>8.1</td>\n",
       "      <td>2.9</td>\n",
       "      <td>13.490059</td>\n",
       "      <td>0.819603</td>\n",
       "    </tr>\n",
       "    <tr>\n",
       "      <th>8598</th>\n",
       "      <td>8.5</td>\n",
       "      <td>9.8</td>\n",
       "      <td>13.490059</td>\n",
       "      <td>0.821604</td>\n",
       "    </tr>\n",
       "    <tr>\n",
       "      <th>8499</th>\n",
       "      <td>8.4</td>\n",
       "      <td>9.9</td>\n",
       "      <td>13.490059</td>\n",
       "      <td>0.880206</td>\n",
       "    </tr>\n",
       "    <tr>\n",
       "      <th>8016</th>\n",
       "      <td>8.0</td>\n",
       "      <td>1.6</td>\n",
       "      <td>13.490059</td>\n",
       "      <td>1.093154</td>\n",
       "    </tr>\n",
       "    <tr>\n",
       "      <th>8724</th>\n",
       "      <td>8.7</td>\n",
       "      <td>2.4</td>\n",
       "      <td>13.490059</td>\n",
       "      <td>1.199049</td>\n",
       "    </tr>\n",
       "  </tbody>\n",
       "</table>\n",
       "<p>100 rows × 4 columns</p>\n",
       "</div>"
      ],
      "text/plain": [
       "      rigth_w  up_w     diff_x    diff_y\n",
       "7736      7.7   3.6  13.490059 -1.736719\n",
       "7823      7.8   2.3  13.490059 -1.698503\n",
       "7857      7.8   5.7  13.490059 -1.686919\n",
       "8753      8.7   5.3  13.490059 -1.649463\n",
       "8427      8.4   2.7  13.490059 -1.533215\n",
       "...       ...   ...        ...       ...\n",
       "8129      8.1   2.9  13.490059  0.819603\n",
       "8598      8.5   9.8  13.490059  0.821604\n",
       "8499      8.4   9.9  13.490059  0.880206\n",
       "8016      8.0   1.6  13.490059  1.093154\n",
       "8724      8.7   2.4  13.490059  1.199049\n",
       "\n",
       "[100 rows x 4 columns]"
      ]
     },
     "execution_count": 5,
     "metadata": {},
     "output_type": "execute_result"
    }
   ],
   "source": [
    "#sort eval by diff_x and diff_y\n",
    "eval = eval.sort_values(by=['diff_x','diff_y'])\n",
    "eval.tail(100)"
   ]
  },
  {
   "cell_type": "code",
   "execution_count": null,
   "metadata": {},
   "outputs": [],
   "source": [
    "#conver pickle to csv\n",
    "import pandas as pd\n",
    "import numpy as np\n",
    "import pickle\n",
    "\n",
    "with open('/home/fernandi/projects/decision-diffuser/code/trajectories/safe_grid_2000_0_noise.pickle','rb') as f:\n",
    "    data = pickle.load(f)\n",
    "\n",
    "df = pd.DataFrame(data['observations'])\n",
    "df['action_x'] = data['actions'][:,0]\n",
    "df['action_y'] = data['actions'][:,1]\n",
    "df['rewards'] = data['rewards']\n",
    "df['terminals'] = data['terminals']\n",
    "df[\"costs\"] = data[\"costs\"]\n",
    "df.to_csv('/home/fernandi/projects/decision-diffuser/code/trajectories/safe_grid_2000_0_noise.csv')"
   ]
  },
  {
   "cell_type": "code",
   "execution_count": 1,
   "metadata": {},
   "outputs": [],
   "source": [
    "import pickle"
   ]
  },
  {
   "cell_type": "code",
   "execution_count": 16,
   "metadata": {},
   "outputs": [
    {
     "name": "stdout",
     "output_type": "stream",
     "text": [
      "dict_keys(['observations', 'actions', 'rewards', 'costs', 'terminals'])\n",
      "(33251, 14)\n",
      "(33251, 2)\n",
      "(33251,)\n",
      "(33251,)\n",
      "[  0.91984232   1.63093368  12.15331973  14.6298702    5.29134147\n",
      "  15.57711582  14.47761887  42.142167    13.97782604 349.01206464\n",
      "  19.41604426  15.57711582  12.34870579  15.57711582]\n",
      "[0.79226244 0.67522289]\n",
      "1.0295972526376111\n",
      "False\n"
     ]
    }
   ],
   "source": [
    "#load pickle file\n",
    "with open('/home/fernandi/projects/decision-diffuser/code/trajectories/safe_grid_2000_0_noise.pickle','rb') as f:\n",
    "    data = pickle.load(f)\n",
    "print(data.keys())\n",
    "print(data['observations'].shape)\n",
    "print(data['actions'].shape)\n",
    "print(data['rewards'].shape)\n",
    "print(data['terminals'].shape)\n",
    "print(data['observations'][0])\n",
    "print(data['actions'][0])\n",
    "print(data['rewards'][0])\n",
    "print(data['terminals'][0])"
   ]
  },
  {
   "cell_type": "code",
   "execution_count": 17,
   "metadata": {},
   "outputs": [
    {
     "name": "stdout",
     "output_type": "stream",
     "text": [
      "[   16    40    59 ... 33209 33230 33250]\n"
     ]
    }
   ],
   "source": [
    "#get terminal index where terminal = 1\n",
    "import numpy as np\n",
    "terminals = data['terminals']\n",
    "terminals = np.where(terminals == 1)\n",
    "terminals = terminals[0]\n",
    "print(terminals)\n"
   ]
  },
  {
   "cell_type": "code",
   "execution_count": 18,
   "metadata": {},
   "outputs": [
    {
     "name": "stdout",
     "output_type": "stream",
     "text": [
      "acc_rewards: 22.48068015393375\n",
      "acc_costs: 2.4243519134879765\n"
     ]
    }
   ],
   "source": [
    "prev_terminal = 0\n",
    "acc_rewards = []\n",
    "acc_costs = []\n",
    "for i in range(2000):\n",
    "    acc_rewards.append(np.sum(data['rewards'][prev_terminal:terminals[i]]))\n",
    "    acc_costs.append(np.sum(data['costs'][prev_terminal:terminals[i]]))\n",
    "    prev_terminal = terminals[i]\n",
    "\n",
    "print(f\"acc_rewards: {np.array(acc_rewards).mean()}\")\n",
    "print(f\"acc_costs: {np.array(acc_costs).mean()}\")"
   ]
  },
  {
   "cell_type": "code",
   "execution_count": 19,
   "metadata": {},
   "outputs": [
    {
     "name": "stdout",
     "output_type": "stream",
     "text": [
      "37.3378031531394\n",
      "18.878305620840987\n"
     ]
    }
   ],
   "source": [
    "print(np.array(acc_rewards).max())\n",
    "print(np.array(acc_costs).max())"
   ]
  },
  {
   "cell_type": "code",
   "execution_count": null,
   "metadata": {},
   "outputs": [
    {
     "data": {
      "text/plain": [
       "array([-15.6024354 , -15.32056707, -14.94486791, -15.46089436,\n",
       "       -14.79110776, -14.09009524, -13.42701378, -13.34837588,\n",
       "       -13.45699295, -12.83555064, -12.26425951, -11.75043669,\n",
       "       -11.70711084, -11.26489418, -10.89675354, -10.6769362 ,\n",
       "       -10.49288961, -10.35238762, -10.3531313 , -10.47555408])"
      ]
     },
     "execution_count": 68,
     "metadata": {},
     "output_type": "execute_result"
    }
   ],
   "source": [
    "data[\"rewards\"][episode_start:episode_end] "
   ]
  },
  {
   "cell_type": "code",
   "execution_count": 69,
   "metadata": {},
   "outputs": [
    {
     "data": {
      "text/plain": [
       "array([False, False, False, False, False, False, False, False, False,\n",
       "       False, False, False, False, False, False, False, False, False,\n",
       "       False,  True])"
      ]
     },
     "execution_count": 69,
     "metadata": {},
     "output_type": "execute_result"
    }
   ],
   "source": [
    "data['terminals'][episode_start:episode_end]"
   ]
  },
  {
   "cell_type": "code",
   "execution_count": 70,
   "metadata": {},
   "outputs": [
    {
     "data": {
      "text/plain": [
       "array([-15.6024354 , -15.32056707, -14.94486791, -15.46089436,\n",
       "       -14.79110776, -14.09009524, -13.42701378, -13.34837588,\n",
       "       -13.45699295, -12.83555064, -12.26425951, -11.75043669,\n",
       "       -11.70711084, -11.26489418, -10.89675354, -10.6769362 ,\n",
       "       -10.49288961, -10.35238762, -10.3531313 , -10.47555408])"
      ]
     },
     "execution_count": 70,
     "metadata": {},
     "output_type": "execute_result"
    }
   ],
   "source": [
    "data['rewards'][episode_start:episode_end]"
   ]
  },
  {
   "cell_type": "code",
   "execution_count": 76,
   "metadata": {},
   "outputs": [
    {
     "data": {
      "text/plain": [
       "array([[ 8.62523449,  0.6856116 , 11.55766122, 19.06800662],\n",
       "       [ 9.62523449,  0.6856116 , 11.55766122, 19.06800662],\n",
       "       [ 8.87299606,  0.6856116 , 11.55766122, 19.06800662],\n",
       "       [ 8.06169808,  0.6856116 , 11.55766122, 19.06800662],\n",
       "       [ 0.80071501,  4.34836355, 12.3312694 , 14.64048858],\n",
       "       [ 0.60488237,  4.34836355, 12.3312694 , 14.64048858],\n",
       "       [ 0.98261584,  4.34836355, 12.3312694 , 14.64048858],\n",
       "       [ 1.49516128,  4.34836355, 12.3312694 , 14.64048858],\n",
       "       [ 0.79387728,  4.34836355, 12.3312694 , 14.64048858],\n",
       "       [ 1.70822693,  4.34836355, 12.3312694 , 14.64048858],\n",
       "       [ 2.70822693,  4.34836355, 12.3312694 , 14.64048858],\n",
       "       [ 3.70822693,  4.34836355, 12.3312694 , 14.64048858],\n",
       "       [ 3.83119288,  4.34836355, 12.3312694 , 14.64048858],\n",
       "       [ 3.66161995,  4.34836355, 12.3312694 , 14.64048858],\n",
       "       [ 4.66161995,  4.34836355, 12.3312694 , 14.64048858],\n",
       "       [ 5.66161995,  4.34836355, 12.3312694 , 14.64048858],\n",
       "       [ 6.66161995,  4.34836355, 12.3312694 , 14.64048858],\n",
       "       [ 6.75196779,  4.34836355, 12.3312694 , 14.64048858],\n",
       "       [ 7.75196779,  4.34836355, 12.3312694 , 14.64048858],\n",
       "       [ 8.75196779,  4.34836355, 12.3312694 , 14.64048858]])"
      ]
     },
     "execution_count": 76,
     "metadata": {},
     "output_type": "execute_result"
    }
   ],
   "source": [
    "episode_observations =data['observations'][episode_start:episode_end]\n",
    "episode_actions =data['actions'][episode_start:episode_end]\n",
    "#loop through the episode\n",
    "for i in range(episode_observations.shape[0]):\n",
    "    print(f\"Observation: {episode_observations[i]}\")\n",
    "    print(f\"Action: {episode_actions[i]}\")\n",
    "    print(f:\"Reward: {data['rewards'][episode_start+i]}\")\n",
    "    print(\"==================================================\")"
   ]
  },
  {
   "cell_type": "code",
   "execution_count": 72,
   "metadata": {},
   "outputs": [
    {
     "data": {
      "text/plain": [
       "array([11.55766122, 19.06800662])"
      ]
     },
     "execution_count": 72,
     "metadata": {},
     "output_type": "execute_result"
    }
   ],
   "source": [
    "first_episode[:,2:4][0]"
   ]
  },
  {
   "cell_type": "code",
   "execution_count": 77,
   "metadata": {},
   "outputs": [
    {
     "data": {
      "text/plain": [
       "array([[-0.19583264,  0.        ],\n",
       "       [ 0.37773347,  0.        ],\n",
       "       [ 0.51254544,  0.        ],\n",
       "       [-0.70128399,  0.        ],\n",
       "       [ 0.91434965,  0.        ],\n",
       "       [ 1.        ,  0.        ],\n",
       "       [ 1.        ,  0.        ],\n",
       "       [ 0.12296595,  0.        ],\n",
       "       [-0.16957292,  0.        ],\n",
       "       [ 1.        ,  0.        ],\n",
       "       [ 1.        ,  0.        ],\n",
       "       [ 1.        ,  0.        ],\n",
       "       [ 0.09034783,  0.        ],\n",
       "       [ 1.        ,  0.        ],\n",
       "       [ 1.        ,  0.        ],\n",
       "       [ 0.73868039,  0.        ],\n",
       "       [ 0.7978548 ,  0.        ],\n",
       "       [ 0.92737785,  0.        ],\n",
       "       [-0.00688146,  0.        ],\n",
       "       [-0.82949727,  0.        ]])"
      ]
     },
     "execution_count": 77,
     "metadata": {},
     "output_type": "execute_result"
    }
   ],
   "source": [
    "data['actions'][episode_start:episode_end]"
   ]
  },
  {
   "cell_type": "code",
   "execution_count": null,
   "metadata": {},
   "outputs": [],
   "source": []
  },
  {
   "cell_type": "code",
   "execution_count": null,
   "metadata": {},
   "outputs": [],
   "source": []
  }
 ],
 "metadata": {
  "kernelspec": {
   "display_name": "dd2",
   "language": "python",
   "name": "python3"
  },
  "language_info": {
   "codemirror_mode": {
    "name": "ipython",
    "version": 3
   },
   "file_extension": ".py",
   "mimetype": "text/x-python",
   "name": "python",
   "nbconvert_exporter": "python",
   "pygments_lexer": "ipython3",
   "version": "3.9.17"
  },
  "orig_nbformat": 4
 },
 "nbformat": 4,
 "nbformat_minor": 2
}
